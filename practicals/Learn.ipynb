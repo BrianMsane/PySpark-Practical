{
 "cells": [
  {
   "cell_type": "code",
   "execution_count": 1,
   "id": "7be3215c-11fa-4820-a76f-eb35b1ce2e7f",
   "metadata": {},
   "outputs": [
    {
     "name": "stderr",
     "output_type": "stream",
     "text": [
      "WARNING: Using incubator modules: jdk.incubator.vector\n",
      "Using Spark's default log4j profile: org/apache/spark/log4j2-defaults.properties\n",
      "25/09/17 15:19:25 WARN Utils: Your hostname, brian-VirtualBox, resolves to a loopback address: 127.0.1.1; using 10.0.2.15 instead (on interface enp0s3)\n",
      "25/09/17 15:19:25 WARN Utils: Set SPARK_LOCAL_IP if you need to bind to another address\n",
      "Using Spark's default log4j profile: org/apache/spark/log4j2-defaults.properties\n",
      "Setting default log level to \"WARN\".\n",
      "To adjust logging level use sc.setLogLevel(newLevel). For SparkR, use setLogLevel(newLevel).\n",
      "25/09/17 15:19:28 WARN NativeCodeLoader: Unable to load native-hadoop library for your platform... using builtin-java classes where applicable\n",
      "                                                                                "
     ]
    },
    {
     "name": "stdout",
     "output_type": "stream",
     "text": [
      "+-------+---+--------+\n",
      "|   Name|Age| Country|\n",
      "+-------+---+--------+\n",
      "|Metfula| 25|Eswatini|\n",
      "| Elliot| 28|Zimbabwe|\n",
      "|   Aina| 30| Namibia|\n",
      "+-------+---+--------+\n",
      "\n"
     ]
    }
   ],
   "source": [
    "from pyspark.sql import SparkSession\n",
    "import os\n",
    "\n",
    "# Create Spark session\n",
    "spark = SparkSession.builder \\\n",
    "    .appName(\"simpleapp\") \\\n",
    "    .master(\"local[*]\") \\\n",
    "    .getOrCreate()\n",
    "\n",
    "# Sample data\n",
    "data = [(\"Metfula\", 25, \"Eswatini\"),\n",
    "        (\"Elliot\", 28, \"Zimbabwe\"),\n",
    "        (\"Aina\", 30, \"Namibia\")]\n",
    "\n",
    "# Create DataFrame\n",
    "df = spark.createDataFrame(data, [\"Name\", \"Age\", \"Country\"])\n",
    "\n",
    "# Show data\n",
    "df.show()"
   ]
  },
  {
   "cell_type": "code",
   "execution_count": 2,
   "id": "48c4bc93-002d-44b7-865c-50fc2508d879",
   "metadata": {},
   "outputs": [
    {
     "name": "stdout",
     "output_type": "stream",
     "text": [
      "root\n",
      " |-- Name: string (nullable = true)\n",
      " |-- Age: long (nullable = true)\n",
      " |-- Country: string (nullable = true)\n",
      "\n"
     ]
    }
   ],
   "source": [
    "df.printSchema()\n"
   ]
  },
  {
   "cell_type": "markdown",
   "id": "e84f57c1-ea65-4bbe-8eff-800ec66bb045",
   "metadata": {},
   "source": [
    "## Example Two\n",
    "- Creating a dataFarame using a list of lists"
   ]
  },
  {
   "cell_type": "code",
   "execution_count": 3,
   "id": "19ac7328-cd1c-4d09-95c8-c56e35dc5b94",
   "metadata": {},
   "outputs": [
    {
     "name": "stdout",
     "output_type": "stream",
     "text": [
      "root\n",
      " |-- firstname: string (nullable = true)\n",
      " |-- middlename: string (nullable = true)\n",
      " |-- lastname: string (nullable = true)\n",
      " |-- dob: string (nullable = true)\n",
      " |-- gender: string (nullable = true)\n",
      " |-- salary: long (nullable = true)\n",
      "\n"
     ]
    }
   ],
   "source": [
    "data = [\n",
    "    [\"James\", \"\", \"Smith\", \"1991-04-01\", \"M\", 2000],\n",
    "    [\"Micheal\", \"\",  \"Rose\", \"2000-05-19\", \"M\", 43000],\n",
    "    [\"Maria\", \"Happiness\", \"Williams\", \"2002-01-24\", \"F\", 25000],\n",
    "    [\"Jen\", \"Promise\", \"Mary\", \"2012-02-06\", \"F\", -30],\n",
    "    [\"Robert\", \"Ncedo\", \"Brown\", \"2007-12-13\", \"M\", 0],\n",
    "]\n",
    "\n",
    "columns = [\"firstname\", \"middlename\", \"lastname\", \"dob\", \"gender\", \"salary\"]\n",
    "\n",
    "dataFrame = spark.createDataFrame(data=data, schema=columns)\n",
    "dataFrame.printSchema()"
   ]
  },
  {
   "cell_type": "code",
   "execution_count": 4,
   "id": "72604d59-13c5-4cc0-b6ee-455781f9eda8",
   "metadata": {},
   "outputs": [
    {
     "name": "stderr",
     "output_type": "stream",
     "text": [
      "                                                                                "
     ]
    },
    {
     "name": "stdout",
     "output_type": "stream",
     "text": [
      "+---------+----------+--------+----------+------+------+\n",
      "|firstname|middlename|lastname|       dob|gender|salary|\n",
      "+---------+----------+--------+----------+------+------+\n",
      "|    James|          |   Smith|1991-04-01|     M|  2000|\n",
      "|  Micheal|          |    Rose|2000-05-19|     M| 43000|\n",
      "|    Maria| Happiness|Williams|2002-01-24|     F| 25000|\n",
      "|      Jen|   Promise|    Mary|2012-02-06|     F|   -30|\n",
      "|   Robert|     Ncedo|   Brown|2007-12-13|     M|     0|\n",
      "+---------+----------+--------+----------+------+------+\n",
      "\n"
     ]
    }
   ],
   "source": [
    "dataFrame.show()"
   ]
  },
  {
   "cell_type": "code",
   "execution_count": 5,
   "id": "0ea2cb93-871b-4d94-9abe-adb1692dc716",
   "metadata": {},
   "outputs": [
    {
     "name": "stdout",
     "output_type": "stream",
     "text": [
      "root\n",
      " |-- firstname: string (nullable = true)\n",
      " |-- middlename: string (nullable = true)\n",
      " |-- lastname: string (nullable = true)\n",
      " |-- DateofBirth: string (nullable = true)\n",
      " |-- gender: string (nullable = true)\n",
      " |-- salary: long (nullable = true)\n",
      "\n"
     ]
    }
   ],
   "source": [
    "dataFrame.withColumnRenamed(\"dob\", \"DateofBirth\").printSchema()"
   ]
  },
  {
   "cell_type": "code",
   "execution_count": 6,
   "id": "eb604abd-ec69-46b0-ab2c-a5c5c5789dbe",
   "metadata": {},
   "outputs": [
    {
     "name": "stdout",
     "output_type": "stream",
     "text": [
      "+---------+----------+--------+----------+------+------+\n",
      "|firstname|middlename|lastname|       dob|gender|salary|\n",
      "+---------+----------+--------+----------+------+------+\n",
      "|    James|          |   Smith|1991-04-01|     M|  2000|\n",
      "|  Micheal|          |    Rose|2000-05-19|     M| 43000|\n",
      "|    Maria| Happiness|Williams|2002-01-24|     F| 25000|\n",
      "|      Jen|   Promise|    Mary|2012-02-06|     F|   -30|\n",
      "|   Robert|     Ncedo|   Brown|2007-12-13|     M|     0|\n",
      "+---------+----------+--------+----------+------+------+\n",
      "\n"
     ]
    },
    {
     "name": "stderr",
     "output_type": "stream",
     "text": [
      "                                                                                "
     ]
    }
   ],
   "source": [
    "dataFrame.show()"
   ]
  },
  {
   "cell_type": "code",
   "execution_count": 7,
   "id": "22475239-08cc-4e7d-a048-2f5e2b1250dc",
   "metadata": {},
   "outputs": [
    {
     "name": "stderr",
     "output_type": "stream",
     "text": [
      "                                                                                "
     ]
    },
    {
     "name": "stdout",
     "output_type": "stream",
     "text": [
      "+---------+----------+--------+----------+------+\n",
      "|firstname|middlename|lastname|       dob|salary|\n",
      "+---------+----------+--------+----------+------+\n",
      "|    James|          |   Smith|1991-04-01|  2000|\n",
      "|  Micheal|          |    Rose|2000-05-19| 43000|\n",
      "|    Maria| Happiness|Williams|2002-01-24| 25000|\n",
      "|      Jen|   Promise|    Mary|2012-02-06|   -30|\n",
      "|   Robert|     Ncedo|   Brown|2007-12-13|     0|\n",
      "+---------+----------+--------+----------+------+\n",
      "\n"
     ]
    }
   ],
   "source": [
    "dataFrame.drop(\"gender\").show()"
   ]
  },
  {
   "cell_type": "code",
   "execution_count": 8,
   "id": "b8b276f7-4563-4b28-af37-186b8c0f7e83",
   "metadata": {},
   "outputs": [
    {
     "name": "stdout",
     "output_type": "stream",
     "text": [
      "+---------+----------+--------+----------+------+------+\n",
      "|firstname|middlename|lastname|dob       |gender|salary|\n",
      "+---------+----------+--------+----------+------+------+\n",
      "|James    |          |Smith   |1991-04-01|M     |2000  |\n",
      "|Micheal  |          |Rose    |2000-05-19|M     |43000 |\n",
      "|Maria    |Happiness |Williams|2002-01-24|F     |25000 |\n",
      "|Jen      |Promise   |Mary    |2012-02-06|F     |-30   |\n",
      "|Robert   |Ncedo     |Brown   |2007-12-13|M     |0     |\n",
      "+---------+----------+--------+----------+------+------+\n",
      "\n"
     ]
    }
   ],
   "source": [
    "dataFrame.show(truncate=False)"
   ]
  },
  {
   "cell_type": "code",
   "execution_count": 9,
   "id": "71a6fb29-375c-4c74-899e-65e89b2dd7eb",
   "metadata": {},
   "outputs": [],
   "source": [
    "from pyspark.sql.functions import lit, col\n",
    "from pyspark.sql.types import StructType, StructField, StringType, IntegerType\n",
    "\n"
   ]
  },
  {
   "cell_type": "code",
   "execution_count": 10,
   "id": "5714c19d-3a34-4725-9d3f-dd44e37880ac",
   "metadata": {},
   "outputs": [
    {
     "name": "stdout",
     "output_type": "stream",
     "text": [
      "+---------+----------+--------+----------+------+-------+\n",
      "|firstname|middlename|lastname|       dob|gender| salary|\n",
      "+---------+----------+--------+----------+------+-------+\n",
      "|    James|          |   Smith|1991-04-01|     M| 200000|\n",
      "|  Micheal|          |    Rose|2000-05-19|     M|4300000|\n",
      "|    Maria| Happiness|Williams|2002-01-24|     F|2500000|\n",
      "|      Jen|   Promise|    Mary|2012-02-06|     F|  -3000|\n",
      "|   Robert|     Ncedo|   Brown|2007-12-13|     M|      0|\n",
      "+---------+----------+--------+----------+------+-------+\n",
      "\n"
     ]
    }
   ],
   "source": [
    "dataFrame = dataFrame.withColumn(\"salary\", col(\"salary\").cast(\"Integer\")) # change the data type to integer\n",
    "dataFrame = dataFrame.withColumn(\"salary\", col(\"salary\")*100) # multiply each value by a 100\n",
    "dataFrame.show()"
   ]
  },
  {
   "cell_type": "code",
   "execution_count": 11,
   "id": "a9ff0cab-869d-459c-998c-99e569652bb2",
   "metadata": {},
   "outputs": [
    {
     "name": "stdout",
     "output_type": "stream",
     "text": [
      "root\n",
      " |-- firstname: string (nullable = true)\n",
      " |-- middlename: string (nullable = true)\n",
      " |-- lastname: string (nullable = true)\n",
      " |-- dob: string (nullable = true)\n",
      " |-- gender: string (nullable = true)\n",
      " |-- salary: integer (nullable = true)\n",
      "\n"
     ]
    }
   ],
   "source": [
    "dataFrame.printSchema()"
   ]
  },
  {
   "cell_type": "code",
   "execution_count": 12,
   "id": "9f9205f1-398a-4d6f-af41-b7569f394c92",
   "metadata": {},
   "outputs": [
    {
     "name": "stdout",
     "output_type": "stream",
     "text": [
      "+---------+----------+--------+----------+------+-------+--------+-------+\n",
      "|firstname|middlename|lastname|dob       |gender|salary |country |region |\n",
      "+---------+----------+--------+----------+------+-------+--------+-------+\n",
      "|James    |          |Smith   |1991-04-01|M     |200000 |Eswatini|Manzini|\n",
      "|Micheal  |          |Rose    |2000-05-19|M     |4300000|Eswatini|Manzini|\n",
      "|Maria    |Happiness |Williams|2002-01-24|F     |2500000|Eswatini|Manzini|\n",
      "|Jen      |Promise   |Mary    |2012-02-06|F     |-3000  |Eswatini|Manzini|\n",
      "|Robert   |Ncedo     |Brown   |2007-12-13|M     |0      |Eswatini|Manzini|\n",
      "+---------+----------+--------+----------+------+-------+--------+-------+\n",
      "\n"
     ]
    },
    {
     "name": "stderr",
     "output_type": "stream",
     "text": [
      "                                                                                "
     ]
    }
   ],
   "source": [
    "\n",
    "dataFrame = dataFrame\\\n",
    "    .withColumn(\"country\", lit(\"Eswatini\"))\\\n",
    "    .withColumn(\"region\", lit(\"Manzini\"))\n",
    "dataFrame.show(truncate=False)"
   ]
  },
  {
   "cell_type": "code",
   "execution_count": 13,
   "id": "1bd824f7-19c1-4f4c-8dc4-c67a68ceb8d1",
   "metadata": {},
   "outputs": [
    {
     "name": "stderr",
     "output_type": "stream",
     "text": [
      "                                                                                "
     ]
    },
    {
     "name": "stdout",
     "output_type": "stream",
     "text": [
      "+---------+----------+--------+----------+------+-------+--------+\n",
      "|firstname|middlename|lastname|dob       |gender|salary |country |\n",
      "+---------+----------+--------+----------+------+-------+--------+\n",
      "|James    |          |Smith   |1991-04-01|M     |200000 |Eswatini|\n",
      "|Micheal  |          |Rose    |2000-05-19|M     |4300000|Eswatini|\n",
      "|Maria    |Happiness |Williams|2002-01-24|F     |2500000|Eswatini|\n",
      "|Jen      |Promise   |Mary    |2012-02-06|F     |-3000  |Eswatini|\n",
      "|Robert   |Ncedo     |Brown   |2007-12-13|M     |0      |Eswatini|\n",
      "+---------+----------+--------+----------+------+-------+--------+\n",
      "\n"
     ]
    }
   ],
   "source": [
    "dataFrame = dataFrame.drop(\"region\")\n",
    "dataFrame.show(truncate=False)"
   ]
  },
  {
   "cell_type": "code",
   "execution_count": 14,
   "id": "89237fbe-5d92-4d0e-8b3e-f17a04330989",
   "metadata": {},
   "outputs": [
    {
     "name": "stdout",
     "output_type": "stream",
     "text": [
      "+---------+----------+--------+----------+------+-------+--------+\n",
      "|firstname|middlename|lastname|       dob|gender| salary| country|\n",
      "+---------+----------+--------+----------+------+-------+--------+\n",
      "|    James|          |   Smith|1991-04-01|     M| 200000|Eswatini|\n",
      "|  Micheal|          |    Rose|2000-05-19|     M|4300000|Eswatini|\n",
      "|    Maria| Happiness|Williams|2002-01-24|     F|2500000|Eswatini|\n",
      "|      Jen|   Promise|    Mary|2012-02-06|     F|  -3000|Eswatini|\n",
      "|   Robert|     Ncedo|   Brown|2007-12-13|     M|      0|Eswatini|\n",
      "+---------+----------+--------+----------+------+-------+--------+\n",
      "\n"
     ]
    },
    {
     "name": "stderr",
     "output_type": "stream",
     "text": [
      "                                                                                "
     ]
    }
   ],
   "source": [
    "dataFrame.show(truncate=True)"
   ]
  },
  {
   "cell_type": "markdown",
   "id": "73a11fde-a8f7-43cc-92d1-0ba0432f323b",
   "metadata": {},
   "source": [
    "## Day Two Practical"
   ]
  },
  {
   "cell_type": "code",
   "execution_count": 15,
   "id": "ba5a1458-5e57-4851-a5cc-ca163aa379fc",
   "metadata": {},
   "outputs": [
    {
     "name": "stderr",
     "output_type": "stream",
     "text": [
      "25/09/17 15:20:12 WARN SparkSession: Using an existing Spark session; only runtime SQL configurations will take effect.\n"
     ]
    },
    {
     "name": "stdout",
     "output_type": "stream",
     "text": [
      "+---------+----+---------+------+\n",
      "|Firstname|Age |City     |Salary|\n",
      "+---------+----+---------+------+\n",
      "|Simphiwe |25  |Siteki   |2000  |\n",
      "|Bandile  |26  |Manzini  |3000  |\n",
      "|Nombuso  |35  |Matsapha |5000  |\n",
      "|Faith    |17  |Kwaluseni|1000  |\n",
      "|Bunmi    |37  |Tubungu  |3500  |\n",
      "|Godwin   |NULL|Mbabane  |5000  |\n",
      "+---------+----+---------+------+\n",
      "\n"
     ]
    }
   ],
   "source": [
    "from pyspark.sql import SparkSession, Row\n",
    "from pyspark.sql.functions import col, lit, when, avg, count\n",
    "\n",
    "spark = SparkSession.builder.appName(\"Operations\").getOrCreate()\n",
    "\n",
    "df = spark.createDataFrame(\n",
    "    data=[\n",
    "        Row(\"Simphiwe\", 25, \"Siteki\", 2000),\n",
    "        Row(\"Bandile\", 26, \"Manzini\", 3000),\n",
    "        Row(\"Nombuso\", 35, \"Matsapha\", 5000),\n",
    "        Row(\"Faith\", 17, \"Kwaluseni\", 1000),\n",
    "        Row(\"Bunmi\", 37, \"Tubungu\", 3500),\n",
    "        Row(\"Godwin\", None, \"Mbabane\", 5000),        \n",
    "    ],\n",
    "    schema=['Firstname', 'Age', 'City', 'Salary']\n",
    ")\n",
    "\n",
    "df.show(truncate=False)"
   ]
  },
  {
   "cell_type": "code",
   "execution_count": 16,
   "id": "caf6bffb-1b22-4102-b96b-2ce7e1437808",
   "metadata": {},
   "outputs": [
    {
     "name": "stdout",
     "output_type": "stream",
     "text": [
      "root\n",
      " |-- Firstname: string (nullable = true)\n",
      " |-- Age: long (nullable = true)\n",
      " |-- City: string (nullable = true)\n",
      " |-- Salary: long (nullable = true)\n",
      "\n"
     ]
    }
   ],
   "source": [
    "df.printSchema()"
   ]
  },
  {
   "cell_type": "code",
   "execution_count": 17,
   "id": "976aa36e-d0e3-47ab-a0d6-3be0f7caa3e8",
   "metadata": {},
   "outputs": [
    {
     "name": "stdout",
     "output_type": "stream",
     "text": [
      "+---------+----+------+\n",
      "|Firstname| Age|Salary|\n",
      "+---------+----+------+\n",
      "| Simphiwe|  25|  2000|\n",
      "|  Bandile|  26|  3000|\n",
      "|  Nombuso|  35|  5000|\n",
      "|    Faith|  17|  1000|\n",
      "|    Bunmi|  37|  3500|\n",
      "|   Godwin|NULL|  5000|\n",
      "+---------+----+------+\n",
      "\n"
     ]
    },
    {
     "name": "stderr",
     "output_type": "stream",
     "text": [
      "                                                                                "
     ]
    }
   ],
   "source": [
    "df.select(\"Firstname\", \"Age\", \"Salary\").show() # select only specific columns"
   ]
  },
  {
   "cell_type": "code",
   "execution_count": 18,
   "id": "10a2e14b-8d16-4724-be74-8d2d4ed3a9d6",
   "metadata": {
    "scrolled": true
   },
   "outputs": [
    {
     "name": "stderr",
     "output_type": "stream",
     "text": [
      "                                                                                "
     ]
    },
    {
     "name": "stdout",
     "output_type": "stream",
     "text": [
      "+---------+---+---------+------+\n",
      "|Firstname|Age|     City|Salary|\n",
      "+---------+---+---------+------+\n",
      "| Simphiwe| 25|   Siteki|  2000|\n",
      "|  Bandile| 26|  Manzini|  3000|\n",
      "|    Faith| 17|Kwaluseni|  1000|\n",
      "+---------+---+---------+------+\n",
      "\n"
     ]
    }
   ],
   "source": [
    "df.where(df.Age <30).show()"
   ]
  },
  {
   "cell_type": "code",
   "execution_count": 19,
   "id": "fdf2a453-d458-4d8e-b5d0-6ac5a3266bef",
   "metadata": {},
   "outputs": [
    {
     "name": "stdout",
     "output_type": "stream",
     "text": [
      "+---------+---+--------+------+\n",
      "|Firstname|Age|    City|Salary|\n",
      "+---------+---+--------+------+\n",
      "| Simphiwe| 25|  Siteki|  2000|\n",
      "|  Bandile| 26| Manzini|  3000|\n",
      "|  Nombuso| 35|Matsapha|  5000|\n",
      "|    Bunmi| 37| Tubungu|  3500|\n",
      "+---------+---+--------+------+\n",
      "\n"
     ]
    }
   ],
   "source": [
    "df.filter(col('age')>20).show()"
   ]
  },
  {
   "cell_type": "code",
   "execution_count": 20,
   "id": "37d2e90a-324b-4d9c-b1af-15df9c551e4d",
   "metadata": {},
   "outputs": [
    {
     "name": "stdout",
     "output_type": "stream",
     "text": [
      "+---------+---+-------+------+\n",
      "|Firstname|Age|   City|Salary|\n",
      "+---------+---+-------+------+\n",
      "|    Bunmi| 37|Tubungu|  3500|\n",
      "+---------+---+-------+------+\n",
      "\n"
     ]
    }
   ],
   "source": [
    "df.filter((df.Age>20) & (df.City==\"Tubungu\") | (df.Salary < 1000)).show()"
   ]
  },
  {
   "cell_type": "markdown",
   "id": "4c1ba9db-6dca-4f02-80c8-94843c73c693",
   "metadata": {},
   "source": [
    "Conditional Statements\n",
    "\n",
    "- use the filter() method\n",
    "- & for AND\n",
    "- | for OR\n",
    "- ! for NOT"
   ]
  },
  {
   "cell_type": "code",
   "execution_count": 21,
   "id": "f32595ed-ffe3-4eae-9103-d9c2f070998a",
   "metadata": {},
   "outputs": [
    {
     "name": "stdout",
     "output_type": "stream",
     "text": [
      "+---------+----+---------+------+------+\n",
      "|Firstname| Age|     City|Salary| Bonus|\n",
      "+---------+----+---------+------+------+\n",
      "| Simphiwe|  25|   Siteki|  2000| 400.0|\n",
      "|  Bandile|  26|  Manzini|  3000| 600.0|\n",
      "|  Nombuso|  35| Matsapha|  5000|1000.0|\n",
      "|    Faith|  17|Kwaluseni|  1000| 200.0|\n",
      "|    Bunmi|  37|  Tubungu|  3500| 700.0|\n",
      "|   Godwin|NULL|  Mbabane|  5000|1000.0|\n",
      "+---------+----+---------+------+------+\n",
      "\n"
     ]
    },
    {
     "name": "stderr",
     "output_type": "stream",
     "text": [
      "                                                                                "
     ]
    }
   ],
   "source": [
    "df = df.withColumn(\"Bonus\", col(\"Salary\")*0.2)\n",
    "df.show()"
   ]
  },
  {
   "cell_type": "code",
   "execution_count": 22,
   "id": "1989f268-2629-4abc-a9a3-e5dd5dd64f73",
   "metadata": {},
   "outputs": [
    {
     "name": "stdout",
     "output_type": "stream",
     "text": [
      "+---------+----+---------+------+------+---------+\n",
      "|Firstname| Age|     City|Salary| Bonus|NewSalary|\n",
      "+---------+----+---------+------+------+---------+\n",
      "| Simphiwe|  25|   Siteki|  2000| 400.0|   2400.0|\n",
      "|  Bandile|  26|  Manzini|  3000| 600.0|   3600.0|\n",
      "|  Nombuso|  35| Matsapha|  5000|1000.0|   6000.0|\n",
      "|    Faith|  17|Kwaluseni|  1000| 200.0|   1200.0|\n",
      "|    Bunmi|  37|  Tubungu|  3500| 700.0|   4200.0|\n",
      "|   Godwin|NULL|  Mbabane|  5000|1000.0|   6000.0|\n",
      "+---------+----+---------+------+------+---------+\n",
      "\n"
     ]
    }
   ],
   "source": [
    "df.withColumn(\"NewSalary\", (col(\"Salary\") + col(\"Bonus\"))).show()"
   ]
  },
  {
   "cell_type": "code",
   "execution_count": 23,
   "id": "bbc81179-f2d3-4da1-b106-916e0e46242c",
   "metadata": {},
   "outputs": [
    {
     "name": "stdout",
     "output_type": "stream",
     "text": [
      "root\n",
      " |-- Firstname: string (nullable = true)\n",
      " |-- Age: long (nullable = true)\n",
      " |-- City: string (nullable = true)\n",
      " |-- Salary: long (nullable = true)\n",
      " |-- Bonus: double (nullable = true)\n",
      "\n"
     ]
    }
   ],
   "source": [
    "df.printSchema()"
   ]
  },
  {
   "cell_type": "code",
   "execution_count": 24,
   "id": "ed3d63aa-0553-4c1b-97d2-390b18748b5e",
   "metadata": {},
   "outputs": [
    {
     "name": "stdout",
     "output_type": "stream",
     "text": [
      "+--------+----+---------+------+------+\n",
      "|    Name| Age|     City|Salary| Bonus|\n",
      "+--------+----+---------+------+------+\n",
      "|Simphiwe|  25|   Siteki|  2000| 400.0|\n",
      "| Bandile|  26|  Manzini|  3000| 600.0|\n",
      "| Nombuso|  35| Matsapha|  5000|1000.0|\n",
      "|   Faith|  17|Kwaluseni|  1000| 200.0|\n",
      "|   Bunmi|  37|  Tubungu|  3500| 700.0|\n",
      "|  Godwin|NULL|  Mbabane|  5000|1000.0|\n",
      "+--------+----+---------+------+------+\n",
      "\n"
     ]
    }
   ],
   "source": [
    "df = df.withColumnRenamed(\"Firstname\", \"Name\")\n",
    "df.show()"
   ]
  },
  {
   "cell_type": "code",
   "execution_count": 25,
   "id": "9769572c-4cfe-4380-bd6e-cbb63222b9c4",
   "metadata": {},
   "outputs": [
    {
     "name": "stdout",
     "output_type": "stream",
     "text": [
      "+--------+----+----------+------+------+\n",
      "|    Name| Age|      City|Salary| Bonus|\n",
      "+--------+----+----------+------+------+\n",
      "|Simphiwe|  25|    Siteki|  2000| 400.0|\n",
      "| Bandile|  26|Ludzeludze|  3000| 600.0|\n",
      "| Nombuso|  35|  Matsapha|  5000|1000.0|\n",
      "|   Faith|  17| Kwaluseni|  1000| 200.0|\n",
      "|   Bunmi|  37|   Tubungu|  3500| 700.0|\n",
      "|  Godwin|NULL|   Mbabane|  5000|1000.0|\n",
      "+--------+----+----------+------+------+\n",
      "\n"
     ]
    }
   ],
   "source": [
    "df\\\n",
    "    .withColumn(\"City\", when(col(\"City\")==\"Manzini\", lit(\"Ludzeludze\"))\\\n",
    "    .otherwise(col(\"City\"))).show()\n",
    "            "
   ]
  },
  {
   "cell_type": "code",
   "execution_count": 26,
   "id": "4dc3a47d-6c3a-4dd4-89b8-de1e823512ed",
   "metadata": {},
   "outputs": [
    {
     "name": "stderr",
     "output_type": "stream",
     "text": [
      "[Stage 36:>                                                         (0 + 4) / 4]"
     ]
    },
    {
     "name": "stdout",
     "output_type": "stream",
     "text": [
      "+---------+----------+-------------+\n",
      "|     City|Avg Salary|Num employees|\n",
      "+---------+----------+-------------+\n",
      "|   Siteki|    2000.0|            1|\n",
      "| Matsapha|    5000.0|            1|\n",
      "|  Manzini|    3000.0|            1|\n",
      "|Kwaluseni|    1000.0|            1|\n",
      "|  Mbabane|    5000.0|            1|\n",
      "|  Tubungu|    3500.0|            1|\n",
      "+---------+----------+-------------+\n",
      "\n"
     ]
    },
    {
     "name": "stderr",
     "output_type": "stream",
     "text": [
      "                                                                                "
     ]
    }
   ],
   "source": [
    "# Print average Salary by city\n",
    "\n",
    "df.groupBy('City').agg(avg(\"Salary\").alias(\"Avg Salary\"), count(\"*\").alias(\"Num employees\")).show()"
   ]
  },
  {
   "cell_type": "code",
   "execution_count": 27,
   "id": "b504b15b-89e1-4890-9943-067b72388a0b",
   "metadata": {},
   "outputs": [
    {
     "name": "stderr",
     "output_type": "stream",
     "text": [
      "[Stage 39:>                                                         (0 + 4) / 4]"
     ]
    },
    {
     "name": "stdout",
     "output_type": "stream",
     "text": [
      "+--------+----+---------+------+------+\n",
      "|    Name| Age|     City|Salary| Bonus|\n",
      "+--------+----+---------+------+------+\n",
      "|   Bunmi|  37|  Tubungu|  3500| 700.0|\n",
      "| Nombuso|  35| Matsapha|  5000|1000.0|\n",
      "| Bandile|  26|  Manzini|  3000| 600.0|\n",
      "|Simphiwe|  25|   Siteki|  2000| 400.0|\n",
      "|   Faith|  17|Kwaluseni|  1000| 200.0|\n",
      "|  Godwin|NULL|  Mbabane|  5000|1000.0|\n",
      "+--------+----+---------+------+------+\n",
      "\n"
     ]
    },
    {
     "name": "stderr",
     "output_type": "stream",
     "text": [
      "                                                                                "
     ]
    }
   ],
   "source": [
    "df.orderBy(col(\"Age\").desc()).show()"
   ]
  },
  {
   "cell_type": "code",
   "execution_count": 28,
   "id": "baa8dfa9-311f-4cf5-a0b0-40b6dca2fdaf",
   "metadata": {},
   "outputs": [
    {
     "name": "stdout",
     "output_type": "stream",
     "text": [
      "+--------+----+---------+------+------+\n",
      "|    Name| Age|     City|Salary| Bonus|\n",
      "+--------+----+---------+------+------+\n",
      "|   Bunmi|  37|  Tubungu|  3500| 700.0|\n",
      "| Nombuso|  35| Matsapha|  5000|1000.0|\n",
      "| Bandile|  26|  Manzini|  3000| 600.0|\n",
      "|Simphiwe|  25|   Siteki|  2000| 400.0|\n",
      "|   Faith|  17|Kwaluseni|  1000| 200.0|\n",
      "|  Godwin|NULL|  Mbabane|  5000|1000.0|\n",
      "+--------+----+---------+------+------+\n",
      "\n"
     ]
    }
   ],
   "source": [
    "from pyspark.sql.functions import desc\n",
    "df.orderBy(desc(\"Age\")).show()"
   ]
  },
  {
   "cell_type": "markdown",
   "id": "40eb7bc4-47ec-4787-bfc2-6a09b3350c01",
   "metadata": {},
   "source": [
    "The difference between these two functions is that in the first one we are using the `col` method which returns a `Column` and from that column we then sort in discending order whilst on the second one we simply call the `desc` function from `pyspark.sql.functions` and pass the attribute name as a parameter. Basically, it is the syntax which differs but the end results are the same."
   ]
  },
  {
   "cell_type": "code",
   "execution_count": 29,
   "id": "a2915505-38ed-484f-9f3d-edc3ce18d64d",
   "metadata": {},
   "outputs": [
    {
     "name": "stderr",
     "output_type": "stream",
     "text": [
      "[Stage 42:===================>                                      (1 + 2) / 3]"
     ]
    },
    {
     "name": "stdout",
     "output_type": "stream",
     "text": [
      "+--------+---+---------+------+------+\n",
      "|    Name|Age|     City|Salary| Bonus|\n",
      "+--------+---+---------+------+------+\n",
      "|Simphiwe| 25|   Siteki|  2000| 400.0|\n",
      "| Bandile| 26|  Manzini|  3000| 600.0|\n",
      "| Nombuso| 35| Matsapha|  5000|1000.0|\n",
      "|   Faith| 17|Kwaluseni|  1000| 200.0|\n",
      "|   Bunmi| 37|  Tubungu|  3500| 700.0|\n",
      "|  Godwin|  0|  Mbabane|  5000|1000.0|\n",
      "+--------+---+---------+------+------+\n",
      "\n"
     ]
    },
    {
     "name": "stderr",
     "output_type": "stream",
     "text": [
      "                                                                                "
     ]
    }
   ],
   "source": [
    "df.fillna({\"Age\": 0}).show()\n"
   ]
  },
  {
   "cell_type": "code",
   "execution_count": 30,
   "id": "c0a2cec3-5ffa-4f13-821c-48fa9de75563",
   "metadata": {},
   "outputs": [
    {
     "name": "stderr",
     "output_type": "stream",
     "text": [
      "                                                                                "
     ]
    },
    {
     "name": "stdout",
     "output_type": "stream",
     "text": [
      "+--------+----+---------+------+------+----+\n",
      "|    Name| Age|     City|Salary| Bonus|Age1|\n",
      "+--------+----+---------+------+------+----+\n",
      "|Simphiwe|  25|   Siteki|  2000| 400.0|  25|\n",
      "| Bandile|  26|  Manzini|  3000| 600.0|  26|\n",
      "| Nombuso|  35| Matsapha|  5000|1000.0|  35|\n",
      "|   Faith|  17|Kwaluseni|  1000| 200.0|  17|\n",
      "|   Bunmi|  37|  Tubungu|  3500| 700.0|  37|\n",
      "|  Godwin|NULL|  Mbabane|  5000|1000.0|  28|\n",
      "+--------+----+---------+------+------+----+\n",
      "\n"
     ]
    }
   ],
   "source": [
    "from pyspark.ml.feature import Imputer\n",
    "\n",
    "imputer = Imputer(inputCols=['Age'], outputCols=['Age1'], strategy='mean')\n",
    "model = imputer.fit(df)\n",
    "df_imputed = model.transform(df)\n",
    "df_imputed.show()"
   ]
  },
  {
   "cell_type": "code",
   "execution_count": null,
   "id": "b32beb2e-b4be-497d-acad-bdf837dbdd0c",
   "metadata": {},
   "outputs": [],
   "source": []
  }
 ],
 "metadata": {
  "kernelspec": {
   "display_name": "Python 3 (ipykernel)",
   "language": "python",
   "name": "python3"
  },
  "language_info": {
   "codemirror_mode": {
    "name": "ipython",
    "version": 3
   },
   "file_extension": ".py",
   "mimetype": "text/x-python",
   "name": "python",
   "nbconvert_exporter": "python",
   "pygments_lexer": "ipython3",
   "version": "3.12.3"
  }
 },
 "nbformat": 4,
 "nbformat_minor": 5
}
