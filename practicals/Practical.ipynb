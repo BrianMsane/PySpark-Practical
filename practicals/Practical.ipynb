{
 "cells": [
  {
   "cell_type": "markdown",
   "id": "f8bd3468-0fd2-4920-ba36-73d19e2da7aa",
   "metadata": {},
   "source": [
    "# Practical on Big Data Tools\n",
    "\n",
    "***Authored by: Prof. Stephen Fashoto, Brian Msane, and Bandile Malaza***"
   ]
  },
  {
   "cell_type": "markdown",
   "id": "6c84422f-0fd9-4613-ac82-bd4925b3b8ff",
   "metadata": {},
   "source": [
    "## PySpark DataFrame\n",
    "\n",
    "A DataFrame is a distributed dataset comprising data arranged in rows and columns with named attributes. It shares similarities with relational database tables or Python data frame but incorporates sophistacated organizations.\n",
    "\n",
    "If you have a Python background, I would assume you already know what Pandas DataFrames are. A PySpark dataFrame is similar with Pandas DataFrame, with the exception taht DataFrames are distributed in the cluster (meaning the data in the dataFrame is stored in different machines in a cluster), and any operations in PySpark execute in parallel on all machines, whereas Pandas DataFrames store and operates in a single machine.\n",
    "\n",
    "## Is PySpark faster than Pandas?\n",
    "PySpark is a distributed computing framework well-suited for processing large-scale datasets that exceed the memory capacity of a single machine. It can leverage paralled processing across a cluster of machines, enabling faster computations on massive datasets.\n",
    "\n",
    "On the other hand, Pandas, being a single-machine library, is optimized for smaller to medium-sized datasets taht can fit into memory. It typically performs well for data manipulation and analysis tasks on small to medium datasets.\n"
   ]
  },
  {
   "cell_type": "markdown",
   "id": "29a2ef7b-eedf-42aa-b62c-7e31998386a3",
   "metadata": {},
   "source": [
    "## Starting a PySpark Session\n",
    "\n",
    "- Common Keywords\n",
    "  - `appName()` is used to setup your application name\n",
    "  - `getOrCreate()` returns a sparksession object if it already exists, else creates a new one.\n",
    "- Uncommon Keywords\n",
    "  - `master()`. If you are running it on the cluster, you need to use your master name as an argument to the `master()` method. Usually, it would be either **YARN** (yet another resource negotiator) or **Mesos** depending on your cluster setup.\n",
    "  - `local[\"*\"]`. When operating in a standalone mode, specify `local[x]`, where `x` is an integer greater than 0, to determine the number of partitions for RDD. Ideally, set `x` to match the number of CPU cores available on your system for optimal performance.\n"
   ]
  },
  {
   "cell_type": "markdown",
   "id": "fbaaeb91-846e-4f7f-9f4e-ea3770610ff5",
   "metadata": {},
   "source": [
    "from pyspark.sql import SparkSession\n",
    "\n",
    "spark = SparkSession.builder\\\n",
    "    .appName(\"simpleapp\")\\\n",
    "    .master(\"local[*]\")\\\n",
    "    .getOrCreate()\n"
   ]
  },
  {
   "cell_type": "markdown",
   "id": "63abfae6-2484-4ee3-bc36-d91bde84d8dd",
   "metadata": {},
   "source": [
    "## Create a DataFrame\n",
    "\n",
    "Using a `list` is one of the simplest ways to create a DataFrame. If you already have an RDD, you can easily convert it to DataFrame. Use the `createDataFrame()` method from the SparkSession object to create the DataFrame.\n",
    "\n",
    "Below are the three differnt ways to create a DataFrame with content in PySpark\n"
   ]
  },
  {
   "cell_type": "markdown",
   "id": "a9d7de19-da90-4dba-af4e-278570844d86",
   "metadata": {},
   "source": [
    "### Example 1: List of Lists"
   ]
  },
  {
   "cell_type": "code",
   "execution_count": 7,
   "id": "38bfaa65-32e7-41fe-b7fa-0e0d1e837c6d",
   "metadata": {},
   "outputs": [
    {
     "name": "stderr",
     "output_type": "stream",
     "text": [
      "                                                                                "
     ]
    },
    {
     "name": "stdout",
     "output_type": "stream",
     "text": [
      "+-------+---+--------+\n",
      "|   Name|Age| Country|\n",
      "+-------+---+--------+\n",
      "|Metfula| 25|Eswatini|\n",
      "| Elliot| 28|Zimbabwe|\n",
      "|   Aina| 30| Namibia|\n",
      "+-------+---+--------+\n",
      "\n",
      "root\n",
      " |-- Name: string (nullable = true)\n",
      " |-- Age: long (nullable = true)\n",
      " |-- Country: string (nullable = true)\n",
      "\n"
     ]
    }
   ],
   "source": [
    "\n",
    "data = [\n",
    "    [\"Metfula\", 25, \"Eswatini\"],\n",
    "    [\"Elliot\", 28, \"Zimbabwe\"],\n",
    "    [\"Aina\", 30, \"Namibia\"]\n",
    "]\n",
    "df = spark.createDataFrame(data=data, schema=[\"Name\", \"Age\", \"Country\"])\n",
    "df.show() # display the content\n",
    "df.printSchema()"
   ]
  },
  {
   "cell_type": "markdown",
   "id": "c2b63992-8c1e-4864-b575-a3069ab8a3d6",
   "metadata": {},
   "source": [
    "### Example 2: List of Tuples"
   ]
  },
  {
   "cell_type": "code",
   "execution_count": 8,
   "id": "880fedde-fde1-46b3-9a4e-becf0994a67e",
   "metadata": {},
   "outputs": [
    {
     "name": "stdout",
     "output_type": "stream",
     "text": [
      "+-------+----------+--------------------+\n",
      "|   name|      club|           statement|\n",
      "+-------+----------+--------------------+\n",
      "|Fashoto|Man United|Eswatini is a ver...|\n",
      "| Malaza|  Man City|PySpark is very nice|\n",
      "|  Msane|Man United|Ubuntu is better ...|\n",
      "+-------+----------+--------------------+\n",
      "\n",
      "root\n",
      " |-- name: string (nullable = true)\n",
      " |-- club: string (nullable = true)\n",
      " |-- statement: string (nullable = true)\n",
      "\n"
     ]
    }
   ],
   "source": [
    "data = [\n",
    "    (\"Fashoto\", 'Man United', 'Eswatini is a very good country'),\n",
    "    (\"Malaza\", 'Man City', 'PySpark is very nice'),\n",
    "    (\"Msane\", 'Man United', 'Ubuntu is better than Windows, frankly')\n",
    "]\n",
    "df1 = spark.createDataFrame(data=data, schema=['name', 'club', 'statement'])\n",
    "df1.show(n=3, truncate=True) # truncate strings more than 20 chars\n",
    "df1.printSchema()"
   ]
  },
  {
   "cell_type": "markdown",
   "id": "cc54ac09-5cab-44c0-8b73-f30739c0c375",
   "metadata": {},
   "source": [
    "### Example 3: List of pyspark.sql.Row"
   ]
  },
  {
   "cell_type": "code",
   "execution_count": 9,
   "id": "1e47b0af-7ba6-4cb7-9ccc-35f9cbb58196",
   "metadata": {},
   "outputs": [
    {
     "name": "stdout",
     "output_type": "stream",
     "text": [
      "+---+---+---+\n",
      "|  a|  b|  c|\n",
      "+---+---+---+\n",
      "|  1|str|5.5|\n",
      "|  2|str|7.0|\n",
      "|  3|str|0.0|\n",
      "|  4|str|9.9|\n",
      "+---+---+---+\n",
      "\n",
      "root\n",
      " |-- a: long (nullable = true)\n",
      " |-- b: string (nullable = true)\n",
      " |-- c: double (nullable = true)\n",
      "\n"
     ]
    }
   ],
   "source": [
    "from pyspark.sql import Row\n",
    "\n",
    "data = [\n",
    "    Row(a=1, b=\"string1\", c=5.5),\n",
    "    Row(a=2, b='string2', c=7.0),\n",
    "    Row(a=3, b='string3', c=0.0),\n",
    "    Row(a=4, b='string4', c=9.9)\n",
    "]\n",
    "df2 = spark.createDataFrame(data)\n",
    "df2.show(truncate=3) # you can also specify the number of chars when you truncate\n",
    "df2.printSchema()"
   ]
  },
  {
   "cell_type": "markdown",
   "id": "98f0c190-c2f6-4ae8-9c65-052ed18754f9",
   "metadata": {},
   "source": [
    "## Practice Examples"
   ]
  },
  {
   "cell_type": "code",
   "execution_count": 10,
   "id": "065c730f-937e-4aae-8a57-782fdf577609",
   "metadata": {},
   "outputs": [
    {
     "name": "stdout",
     "output_type": "stream",
     "text": [
      "Content of the original DataFrame\n",
      "+---------+----+---------+------+\n",
      "|Firstname| Age|     City|Salary|\n",
      "+---------+----+---------+------+\n",
      "| Simphiwe|  25|   Siteki|  2000|\n",
      "|  Bandile|  26|  Manzini|  3000|\n",
      "|  Nombuso|  35| Matsapha|  5000|\n",
      "|    Faith|  17|Kwaluseni|  1000|\n",
      "|    Bunmi|  37|  Tubungu|  3500|\n",
      "|   Godwin|NULL|  Mbabane|  5000|\n",
      "+---------+----+---------+------+\n",
      "\n"
     ]
    }
   ],
   "source": [
    "from pyspark.sql.functions import lit, col, when, avg, count\n",
    "\n",
    "Data = [\n",
    "    (\"Simphiwe\", 25, \"Siteki\", 2000),\n",
    "    (\"Bandile\", 26, \"Manzini\", 3000),\n",
    "    (\"Nombuso\", 35, \"Matsapha\", 5000),\n",
    "    (\"Faith\", 17, \"Kwaluseni\", 1000),\n",
    "    (\"Bunmi\", 37, \"Tubungu\", 3500),\n",
    "    (\"Godwin\", None, \"Mbabane\", 5000)\n",
    "]\n",
    "columns = [\"Firstname\", \"Age\", \"City\", \"Salary\"]\n",
    "df = spark.createDataFrame(Data, columns)\n",
    "\n",
    "print(\"Content of the original DataFrame\")\n",
    "df.show()"
   ]
  },
  {
   "cell_type": "code",
   "execution_count": 11,
   "id": "52d99a7d-24df-465a-ab64-8f7accbb323f",
   "metadata": {},
   "outputs": [
    {
     "name": "stdout",
     "output_type": "stream",
     "text": [
      "selecting evevery row on these 3 columns\n",
      "+---------+----+------+\n",
      "|Firstname| Age|Salary|\n",
      "+---------+----+------+\n",
      "| Simphiwe|  25|  2000|\n",
      "|  Bandile|  26|  3000|\n",
      "|  Nombuso|  35|  5000|\n",
      "|    Faith|  17|  1000|\n",
      "|    Bunmi|  37|  3500|\n",
      "|   Godwin|NULL|  5000|\n",
      "+---------+----+------+\n",
      "\n",
      "Alternative method of selecting: selecting all rows which meet this condition (all columns)\n",
      "+---------+---+---------+------+\n",
      "|Firstname|Age|     City|Salary|\n",
      "+---------+---+---------+------+\n",
      "| Simphiwe| 25|   Siteki|  2000|\n",
      "|  Bandile| 26|  Manzini|  3000|\n",
      "|    Faith| 17|Kwaluseni|  1000|\n",
      "+---------+---+---------+------+\n",
      "\n"
     ]
    }
   ],
   "source": [
    "# Select specific columns from the dataframe using select() method\n",
    "\n",
    "print(\"Selecting all rows on only these 3 columns\")\n",
    "df.select(\"Firstname\", \"Age\", \"Salary\").show()\n",
    "\n",
    "print(\"Alternative method of selecting: selecting all rows which meet this condition (all columns)\")\n",
    "df.where(df.Age < 30).show()"
   ]
  },
  {
   "cell_type": "markdown",
   "id": "9662033e-2e9c-4591-ac92-bf5d92cbfed7",
   "metadata": {},
   "source": [
    "Note:\\\n",
    "In the example above we see two different methods that we can use for selecting rows and columns in a DataFrame.\n",
    "- First, we can use the `select()` method of a DataFrame to list the columns we want to select. This gives us a ll the rows but only the listed attributes/features are retrieved.\n",
    "- Second, we can ue the `where()` method to give a condition we want the rows to be retrieved to meet.\n",
    "Of course you can combine these two to form an `SQL`-like syntax where in you want to retrieve only a certain colums for rows which meet the condition specified on the `where`. You can think on the `select()` method as the `SELECT` clause and the `where()` as the `WHERE` clause.\n",
    "\n",
    "Let's try it:\\\n",
    "Select the **Age** and **Firstname** for all people whose salary is _greater than_ 3000."
   ]
  },
  {
   "cell_type": "code",
   "execution_count": 16,
   "id": "099ae45e-fbdf-4f98-9095-ff17128f031b",
   "metadata": {},
   "outputs": [
    {
     "name": "stderr",
     "output_type": "stream",
     "text": [
      "                                                                                "
     ]
    },
    {
     "name": "stdout",
     "output_type": "stream",
     "text": [
      "+----+---------+\n",
      "| Age|Firstname|\n",
      "+----+---------+\n",
      "|  35|  Nombuso|\n",
      "|  37|    Bunmi|\n",
      "|NULL|   Godwin|\n",
      "+----+---------+\n",
      "\n"
     ]
    }
   ],
   "source": [
    "df.select('Age', 'Firstname').where(col('Salary') > 3000).show()"
   ]
  },
  {
   "cell_type": "code",
   "execution_count": 12,
   "id": "0bc68835-c0ef-4f84-bf63-0ca329c5509c",
   "metadata": {},
   "outputs": [
    {
     "name": "stdout",
     "output_type": "stream",
     "text": [
      "Filter age that is greater than 20\n",
      "+---------+---+--------+------+\n",
      "|Firstname|Age|    City|Salary|\n",
      "+---------+---+--------+------+\n",
      "| Simphiwe| 25|  Siteki|  2000|\n",
      "|  Bandile| 26| Manzini|  3000|\n",
      "|  Nombuso| 35|Matsapha|  5000|\n",
      "|    Bunmi| 37| Tubungu|  3500|\n",
      "+---------+---+--------+------+\n",
      "\n"
     ]
    },
    {
     "name": "stderr",
     "output_type": "stream",
     "text": [
      "                                                                                "
     ]
    }
   ],
   "source": [
    "# filter rows based on a condition\n",
    "print(\"Filter age that is greater than 20\")\n",
    "df.filter(col(\"Age\") > 20).show()"
   ]
  },
  {
   "cell_type": "code",
   "execution_count": 21,
   "id": "0316859b-bcff-429d-b52d-92cb7b08ee9c",
   "metadata": {},
   "outputs": [
    {
     "name": "stdout",
     "output_type": "stream",
     "text": [
      "+---------+---+-------+------+\n",
      "|Firstname|Age|   City|Salary|\n",
      "+---------+---+-------+------+\n",
      "|    Bunmi| 37|Tubungu|  3500|\n",
      "+---------+---+-------+------+\n",
      "\n"
     ]
    }
   ],
   "source": [
    "df.filter(\n",
    "    (df.Age > 30) & \n",
    "    (df.City==\"Tubungu\") |\n",
    "    (df.Salary < 1000)\n",
    ").show()\n",
    "          "
   ]
  },
  {
   "cell_type": "markdown",
   "id": "5b9c7e9b-8711-47a9-8067-22b41e90e5a0",
   "metadata": {},
   "source": [
    "With our comparison to **Structured Query Language** forming up, we can now start adding more and more conditions using \n",
    "- AND = &\n",
    "- OR =  |\n",
    "- NOT = !\n",
    "\n",
    "Note that these conditions are specified inside the `filter()` method and are connected using the connectors. For readability, each condition is written in a new line in the example above. That is, we have three conditions, one regarding **Age**, the other regarding **City**, and the last one regarding **Salary**."
   ]
  },
  {
   "cell_type": "markdown",
   "id": "1e55b424-28ed-47a1-bb35-aaeaaaf06708",
   "metadata": {},
   "source": [
    "## Adding, renaming, and removing columns from the DataFrame\n",
    "\n",
    "You can remove/drop columns from the DataFrame using the `drop()` method. Likewise, you can add new columns to the DF using the `withColumn()` method. Also, you can rename columns using the `withColumnRenamed()` method.\n",
    "\n",
    "One important thing to note is that these methods are not _\"inplace methods\"_. By that we mean they do not directly affect the DF so we need to assign the result of the operation into a variable of type `DataFrame`."
   ]
  },
  {
   "cell_type": "code",
   "execution_count": 31,
   "id": "8b76fa59-4d48-4fcf-bf60-2ef941602351",
   "metadata": {},
   "outputs": [
    {
     "name": "stdout",
     "output_type": "stream",
     "text": [
      "+---------+----+---------+------+------+\n",
      "|Firstname| Age|     City|Salary| Bonus|\n",
      "+---------+----+---------+------+------+\n",
      "| Simphiwe|  25|   Siteki|  2000| 400.0|\n",
      "|  Bandile|  26|  Manzini|  3000| 600.0|\n",
      "|  Nombuso|  35| Matsapha|  5000|1000.0|\n",
      "|    Faith|  17|Kwaluseni|  1000| 200.0|\n",
      "|    Bunmi|  37|  Tubungu|  3500| 700.0|\n",
      "|   Godwin|NULL|  Mbabane|  5000|1000.0|\n",
      "+---------+----+---------+------+------+\n",
      "\n"
     ]
    }
   ],
   "source": [
    "df = df.withColumn(\"Bonus\", col(\"Salary\") * 0.2)\n",
    "df.show()"
   ]
  },
  {
   "cell_type": "code",
   "execution_count": 32,
   "id": "08fac0eb-52ae-416c-9fb1-97419dbd8ac9",
   "metadata": {},
   "outputs": [
    {
     "name": "stdout",
     "output_type": "stream",
     "text": [
      "+---------+----+---------+------+------+-------+\n",
      "|Firstname| Age|     City|Salary| Bonus| Region|\n",
      "+---------+----+---------+------+------+-------+\n",
      "| Simphiwe|  25|   Siteki|  2000| 400.0|Manzini|\n",
      "|  Bandile|  26|  Manzini|  3000| 600.0|Manzini|\n",
      "|  Nombuso|  35| Matsapha|  5000|1000.0|Manzini|\n",
      "|    Faith|  17|Kwaluseni|  1000| 200.0|Manzini|\n",
      "|    Bunmi|  37|  Tubungu|  3500| 700.0|Manzini|\n",
      "|   Godwin|NULL|  Mbabane|  5000|1000.0|Manzini|\n",
      "+---------+----+---------+------+------+-------+\n",
      "\n"
     ]
    }
   ],
   "source": [
    "df = df.withColumn(\"Region\", lit(\"Manzini\"))\n",
    "df.show()"
   ]
  },
  {
   "cell_type": "code",
   "execution_count": 33,
   "id": "a61827a4-f9f3-424c-9bee-263b541c0511",
   "metadata": {},
   "outputs": [
    {
     "name": "stdout",
     "output_type": "stream",
     "text": [
      "+---------+----+---------+------+------+-------+\n",
      "|Firstname| Age|     City|Salary| Bonus|Sigodzi|\n",
      "+---------+----+---------+------+------+-------+\n",
      "| Simphiwe|  25|   Siteki|  2000| 400.0|Manzini|\n",
      "|  Bandile|  26|  Manzini|  3000| 600.0|Manzini|\n",
      "|  Nombuso|  35| Matsapha|  5000|1000.0|Manzini|\n",
      "|    Faith|  17|Kwaluseni|  1000| 200.0|Manzini|\n",
      "|    Bunmi|  37|  Tubungu|  3500| 700.0|Manzini|\n",
      "|   Godwin|NULL|  Mbabane|  5000|1000.0|Manzini|\n",
      "+---------+----+---------+------+------+-------+\n",
      "\n",
      "root\n",
      " |-- Firstname: string (nullable = true)\n",
      " |-- Age: long (nullable = true)\n",
      " |-- City: string (nullable = true)\n",
      " |-- Salary: long (nullable = true)\n",
      " |-- Bonus: double (nullable = true)\n",
      " |-- Sigodzi: string (nullable = false)\n",
      "\n"
     ]
    }
   ],
   "source": [
    "df = df.withColumnRenamed(\"Region\", \"Sigodzi\")\n",
    "df.show()\n",
    "df.printSchema()"
   ]
  },
  {
   "cell_type": "code",
   "execution_count": 34,
   "id": "2a2a1839-f7d6-4e21-94cc-3941b65d2b2b",
   "metadata": {},
   "outputs": [
    {
     "name": "stdout",
     "output_type": "stream",
     "text": [
      "+---------+----+---------+------+------+\n",
      "|Firstname| Age|     City|Salary| Bonus|\n",
      "+---------+----+---------+------+------+\n",
      "| Simphiwe|  25|   Siteki|  2000| 400.0|\n",
      "|  Bandile|  26|  Manzini|  3000| 600.0|\n",
      "|  Nombuso|  35| Matsapha|  5000|1000.0|\n",
      "|    Faith|  17|Kwaluseni|  1000| 200.0|\n",
      "|    Bunmi|  37|  Tubungu|  3500| 700.0|\n",
      "|   Godwin|NULL|  Mbabane|  5000|1000.0|\n",
      "+---------+----+---------+------+------+\n",
      "\n"
     ]
    }
   ],
   "source": [
    "df=df.drop(\"Sigodzi\")\n",
    "df.show()"
   ]
  },
  {
   "cell_type": "markdown",
   "id": "6d73a835-e7a0-404c-8ecb-e1b1de58445d",
   "metadata": {},
   "source": [
    "## Exercise 1\n",
    "Create a new column called **New Salary** based on the addition of `Salary` and `Bonus`\n",
    "Hint: \n",
    " - New Salary = Salary + Bonus\n",
    " - `col()`"
   ]
  },
  {
   "cell_type": "code",
   "execution_count": 36,
   "id": "d005e872-e322-4b92-8487-78cbdde3e4f9",
   "metadata": {},
   "outputs": [],
   "source": [
    "## Your solution here"
   ]
  },
  {
   "cell_type": "markdown",
   "id": "838719e2-1f61-4076-b9dc-40c78aae4859",
   "metadata": {},
   "source": [
    "## Exercise 2\n",
    "\n",
    "Rename the `Firstname` column to `Name`"
   ]
  },
  {
   "cell_type": "code",
   "execution_count": null,
   "id": "324ed1c5-a24a-43f4-a394-f36c431e4726",
   "metadata": {},
   "outputs": [],
   "source": [
    "## Your solution here"
   ]
  },
  {
   "cell_type": "markdown",
   "id": "21b1c55e-00bf-4829-b903-f3277c7b4be7",
   "metadata": {},
   "source": [
    "## Update Columns based on Conditions\n",
    "\n",
    "- Change the city name for **Nombuso** to Ludzeludze"
   ]
  },
  {
   "cell_type": "code",
   "execution_count": 41,
   "id": "4bafab61-030a-492c-99f8-982b2bb27845",
   "metadata": {},
   "outputs": [
    {
     "name": "stdout",
     "output_type": "stream",
     "text": [
      "+---------+----+----------+------+------+\n",
      "|Firstname| Age|      City|Salary| Bonus|\n",
      "+---------+----+----------+------+------+\n",
      "| Simphiwe|  25|    Siteki|  2000| 400.0|\n",
      "|  Bandile|  26|   Manzini|  3000| 600.0|\n",
      "|  Nombuso|  35|Ludzeludze|  5000|1000.0|\n",
      "|    Faith|  17| Kwaluseni|  1000| 200.0|\n",
      "|    Bunmi|  37|   Tubungu|  3500| 700.0|\n",
      "|   Godwin|NULL|   Mbabane|  5000|1000.0|\n",
      "+---------+----+----------+------+------+\n",
      "\n"
     ]
    },
    {
     "name": "stderr",
     "output_type": "stream",
     "text": [
      "                                                                                "
     ]
    }
   ],
   "source": [
    "df = df\\\n",
    "    .withColumn(\"City\", when(col(\"Firstname\") == \"Nombuso\", lit(\"Ludzeludze\"))\\\n",
    "    .otherwise(col(\"City\")))\n",
    "\n",
    "\n",
    "df.show()"
   ]
  },
  {
   "cell_type": "markdown",
   "id": "59c29d74-f857-42db-be67-84d4a79ebd22",
   "metadata": {},
   "source": [
    "## Exercise 3\n",
    "\n",
    "Change the Manzini City to Mbabane for all people who reside in Manzini.\\\n",
    "Hint\n",
    "- First get/select the people\n",
    "- Change only their City"
   ]
  },
  {
   "cell_type": "code",
   "execution_count": null,
   "id": "2b4c647d-ab1f-4224-8d58-29e0f74939b3",
   "metadata": {},
   "outputs": [],
   "source": [
    "## Your solution here"
   ]
  },
  {
   "cell_type": "markdown",
   "id": "97492628-2d21-4aea-a23f-1f296473c4a4",
   "metadata": {},
   "source": [
    "## Groupings and Aggregations"
   ]
  },
  {
   "cell_type": "code",
   "execution_count": 43,
   "id": "a0c9290a-7f60-4b09-b7f3-e8378b2a1a1f",
   "metadata": {},
   "outputs": [
    {
     "name": "stderr",
     "output_type": "stream",
     "text": [
      "[Stage 48:===========================================>              (3 + 1) / 4]"
     ]
    },
    {
     "name": "stdout",
     "output_type": "stream",
     "text": [
      "+----------+----------+-------------+\n",
      "|      City|Avg_Salary|Num_employees|\n",
      "+----------+----------+-------------+\n",
      "|    Siteki|    2000.0|            1|\n",
      "|Ludzeludze|    5000.0|            1|\n",
      "|   Manzini|    3000.0|            1|\n",
      "| Kwaluseni|    1000.0|            1|\n",
      "|   Mbabane|    5000.0|            1|\n",
      "|   Tubungu|    3500.0|            1|\n",
      "+----------+----------+-------------+\n",
      "\n"
     ]
    },
    {
     "name": "stderr",
     "output_type": "stream",
     "text": [
      "                                                                                "
     ]
    }
   ],
   "source": [
    "print(\"average salary by city\")\n",
    "\n",
    "df.groupBy(\"City\").agg(\n",
    "    avg(\"Salary\").alias(\"Avg_Salary\"), \n",
    "    count('*').alias(\"Num_employees\")\n",
    ").show()"
   ]
  },
  {
   "cell_type": "code",
   "execution_count": 45,
   "id": "53aa3cf1-93cd-4ca5-9640-10f024ac17f6",
   "metadata": {},
   "outputs": [
    {
     "name": "stdout",
     "output_type": "stream",
     "text": [
      "Sort age in descending order\n",
      "+---------+----+----------+------+------+\n",
      "|Firstname| Age|      City|Salary| Bonus|\n",
      "+---------+----+----------+------+------+\n",
      "|    Bunmi|  37|   Tubungu|  3500| 700.0|\n",
      "|  Nombuso|  35|Ludzeludze|  5000|1000.0|\n",
      "|  Bandile|  26|   Manzini|  3000| 600.0|\n",
      "| Simphiwe|  25|    Siteki|  2000| 400.0|\n",
      "|    Faith|  17| Kwaluseni|  1000| 200.0|\n",
      "|   Godwin|NULL|   Mbabane|  5000|1000.0|\n",
      "+---------+----+----------+------+------+\n",
      "\n"
     ]
    }
   ],
   "source": [
    "print(\"Sort age in descending order\")\n",
    "\n",
    "df.orderBy(col(\"Age\").desc()).show()"
   ]
  },
  {
   "cell_type": "markdown",
   "id": "b6f4aa21-7417-44b1-abf8-c3f2e61a821e",
   "metadata": {},
   "source": [
    "Note:\\\n",
    "This same operation can be done by using the `desc()` function instead of `col().desc()` but the results are pretty much the same thing."
   ]
  },
  {
   "cell_type": "code",
   "execution_count": 47,
   "id": "072cecdf-dd80-4ffb-85ea-c183c5d7a513",
   "metadata": {},
   "outputs": [
    {
     "name": "stdout",
     "output_type": "stream",
     "text": [
      "+---------+----+----------+------+------+\n",
      "|Firstname| Age|      City|Salary| Bonus|\n",
      "+---------+----+----------+------+------+\n",
      "|    Bunmi|  37|   Tubungu|  3500| 700.0|\n",
      "|  Nombuso|  35|Ludzeludze|  5000|1000.0|\n",
      "|  Bandile|  26|   Manzini|  3000| 600.0|\n",
      "| Simphiwe|  25|    Siteki|  2000| 400.0|\n",
      "|    Faith|  17| Kwaluseni|  1000| 200.0|\n",
      "|   Godwin|NULL|   Mbabane|  5000|1000.0|\n",
      "+---------+----+----------+------+------+\n",
      "\n"
     ]
    }
   ],
   "source": [
    "from pyspark.sql.functions import desc\n",
    "df.orderBy(desc(\"Age\")).show()"
   ]
  },
  {
   "cell_type": "markdown",
   "id": "021cafbc-f973-4890-a1d7-fb65c3df1861",
   "metadata": {},
   "source": [
    "## Handling Missing Values\n",
    "\n",
    "- Give a specific value for a column\n",
    "- Use the same value across the dataset\n",
    "- Dropping missing values\n",
    "- Use `Imputer` and measures of central tendency"
   ]
  },
  {
   "cell_type": "code",
   "execution_count": 48,
   "id": "b03dc5e6-a5d4-4d77-b213-0e58e619a074",
   "metadata": {},
   "outputs": [
    {
     "name": "stdout",
     "output_type": "stream",
     "text": [
      "+---------+---+----------+------+------+\n",
      "|Firstname|Age|      City|Salary| Bonus|\n",
      "+---------+---+----------+------+------+\n",
      "| Simphiwe| 25|    Siteki|  2000| 400.0|\n",
      "|  Bandile| 26|   Manzini|  3000| 600.0|\n",
      "|  Nombuso| 35|Ludzeludze|  5000|1000.0|\n",
      "|    Faith| 17| Kwaluseni|  1000| 200.0|\n",
      "|    Bunmi| 37|   Tubungu|  3500| 700.0|\n",
      "|   Godwin|  0|   Mbabane|  5000|1000.0|\n",
      "+---------+---+----------+------+------+\n",
      "\n"
     ]
    }
   ],
   "source": [
    "df.fillna({\"Age\":0}).show() # for age, fill with 0"
   ]
  },
  {
   "cell_type": "code",
   "execution_count": 49,
   "id": "e6d3d3c0-2723-4d2b-845e-d30ac8cd6b76",
   "metadata": {},
   "outputs": [
    {
     "name": "stdout",
     "output_type": "stream",
     "text": [
      "+---------+---+----------+------+------+\n",
      "|Firstname|Age|      City|Salary| Bonus|\n",
      "+---------+---+----------+------+------+\n",
      "| Simphiwe| 25|    Siteki|  2000| 400.0|\n",
      "|  Bandile| 26|   Manzini|  3000| 600.0|\n",
      "|  Nombuso| 35|Ludzeludze|  5000|1000.0|\n",
      "|    Faith| 17| Kwaluseni|  1000| 200.0|\n",
      "|    Bunmi| 37|   Tubungu|  3500| 700.0|\n",
      "|   Godwin|  0|   Mbabane|  5000|1000.0|\n",
      "+---------+---+----------+------+------+\n",
      "\n"
     ]
    }
   ],
   "source": [
    "df.fillna(0).show() # fill using 0 across the dataset"
   ]
  },
  {
   "cell_type": "code",
   "execution_count": 50,
   "id": "e42cb96c-5b8c-4383-be49-51452fca3960",
   "metadata": {},
   "outputs": [
    {
     "name": "stdout",
     "output_type": "stream",
     "text": [
      "+---------+---+----------+------+------+\n",
      "|Firstname|Age|      City|Salary| Bonus|\n",
      "+---------+---+----------+------+------+\n",
      "| Simphiwe| 25|    Siteki|  2000| 400.0|\n",
      "|  Bandile| 26|   Manzini|  3000| 600.0|\n",
      "|  Nombuso| 35|Ludzeludze|  5000|1000.0|\n",
      "|    Faith| 17| Kwaluseni|  1000| 200.0|\n",
      "|    Bunmi| 37|   Tubungu|  3500| 700.0|\n",
      "+---------+---+----------+------+------+\n",
      "\n"
     ]
    }
   ],
   "source": [
    "df.na.drop().show() # drop missing values"
   ]
  },
  {
   "cell_type": "code",
   "execution_count": 51,
   "id": "93062281-aded-43f7-a423-182ee53f8d79",
   "metadata": {},
   "outputs": [
    {
     "name": "stdout",
     "output_type": "stream",
     "text": [
      "+---------+----+----------+------+------+----+\n",
      "|Firstname| Age|      City|Salary| Bonus|Age1|\n",
      "+---------+----+----------+------+------+----+\n",
      "| Simphiwe|  25|    Siteki|  2000| 400.0|  25|\n",
      "|  Bandile|  26|   Manzini|  3000| 600.0|  26|\n",
      "|  Nombuso|  35|Ludzeludze|  5000|1000.0|  35|\n",
      "|    Faith|  17| Kwaluseni|  1000| 200.0|  17|\n",
      "|    Bunmi|  37|   Tubungu|  3500| 700.0|  37|\n",
      "|   Godwin|NULL|   Mbabane|  5000|1000.0|  28|\n",
      "+---------+----+----------+------+------+----+\n",
      "\n"
     ]
    }
   ],
   "source": [
    "from pyspark.ml.feature import Imputer\n",
    "\n",
    "imputer = Imputer(\n",
    "    inputCols=['Age'],\n",
    "    outputCols=['Age1'],\n",
    "    strategy='mean'\n",
    ")\n",
    "model = imputer.fit(df)\n",
    "df1 = model.transform(df)\n",
    "df1.show()"
   ]
  },
  {
   "cell_type": "markdown",
   "id": "9e00a7d7-4360-4197-b5aa-9667cc0d2943",
   "metadata": {},
   "source": [
    "## Handle Duplicates"
   ]
  },
  {
   "cell_type": "code",
   "execution_count": 53,
   "id": "e5ce3f51-07d2-4700-a351-c08d6bff508f",
   "metadata": {},
   "outputs": [
    {
     "name": "stderr",
     "output_type": "stream",
     "text": [
      "[Stage 66:===========================================>              (3 + 1) / 4]"
     ]
    },
    {
     "name": "stdout",
     "output_type": "stream",
     "text": [
      "+---------+\n",
      "|Firstname|\n",
      "+---------+\n",
      "| Simphiwe|\n",
      "|  Bandile|\n",
      "|  Nombuso|\n",
      "|    Faith|\n",
      "|   Godwin|\n",
      "|    Bunmi|\n",
      "+---------+\n",
      "\n"
     ]
    },
    {
     "name": "stderr",
     "output_type": "stream",
     "text": [
      "                                                                                "
     ]
    }
   ],
   "source": [
    "df.select(\"Firstname\").distinct().show()"
   ]
  },
  {
   "cell_type": "code",
   "execution_count": 54,
   "id": "ada0ff00-6e71-4c0a-854b-e1196887a771",
   "metadata": {},
   "outputs": [
    {
     "name": "stderr",
     "output_type": "stream",
     "text": [
      "                                                                                "
     ]
    },
    {
     "name": "stdout",
     "output_type": "stream",
     "text": [
      "+---------+---+----------+------+------+\n",
      "|Firstname|Age|      City|Salary| Bonus|\n",
      "+---------+---+----------+------+------+\n",
      "|    Faith| 17| Kwaluseni|  1000| 200.0|\n",
      "| Simphiwe| 25|    Siteki|  2000| 400.0|\n",
      "|  Bandile| 26|   Manzini|  3000| 600.0|\n",
      "|    Bunmi| 37|   Tubungu|  3500| 700.0|\n",
      "|  Nombuso| 35|Ludzeludze|  5000|1000.0|\n",
      "+---------+---+----------+------+------+\n",
      "\n"
     ]
    }
   ],
   "source": [
    "df.dropDuplicates(['Salary']).show()"
   ]
  },
  {
   "cell_type": "code",
   "execution_count": null,
   "id": "a2a24553-739b-4e34-b4e0-fb5615cde1c2",
   "metadata": {},
   "outputs": [],
   "source": []
  }
 ],
 "metadata": {
  "kernelspec": {
   "display_name": "Python 3 (ipykernel)",
   "language": "python",
   "name": "python3"
  },
  "language_info": {
   "codemirror_mode": {
    "name": "ipython",
    "version": 3
   },
   "file_extension": ".py",
   "mimetype": "text/x-python",
   "name": "python",
   "nbconvert_exporter": "python",
   "pygments_lexer": "ipython3",
   "version": "3.12.3"
  }
 },
 "nbformat": 4,
 "nbformat_minor": 5
}
